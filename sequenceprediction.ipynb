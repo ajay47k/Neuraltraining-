{
 "cells": [
  {
   "cell_type": "code",
   "execution_count": null,
   "id": "921d4330-5907-488e-8d55-1cef2cfb6bc2",
   "metadata": {
    "scrolled": true
   },
   "outputs": [
    {
     "name": "stderr",
     "output_type": "stream",
     "text": [
      "C:\\Users\\ajays\\AppData\\Local\\Programs\\Python\\Python310\\lib\\site-packages\\keras\\src\\layers\\rnn\\rnn.py:200: UserWarning: Do not pass an `input_shape`/`input_dim` argument to a layer. When using Sequential models, prefer using an `Input(shape)` object as the first layer in the model instead.\n",
      "  super().__init__(**kwargs)\n"
     ]
    },
    {
     "name": "stdout",
     "output_type": "stream",
     "text": [
      "Epoch 1/500\n",
      "1000/1000 - 8s - 8ms/step - accuracy: 0.0670 - loss: 3.0961\n",
      "Epoch 2/500\n",
      "1000/1000 - 5s - 5ms/step - accuracy: 0.1030 - loss: 2.8628\n",
      "Epoch 3/500\n",
      "1000/1000 - 5s - 5ms/step - accuracy: 0.1500 - loss: 2.5975\n",
      "Epoch 4/500\n",
      "1000/1000 - 5s - 5ms/step - accuracy: 0.2250 - loss: 2.3246\n",
      "Epoch 5/500\n",
      "1000/1000 - 4s - 4ms/step - accuracy: 0.2690 - loss: 2.1534\n",
      "Epoch 6/500\n",
      "1000/1000 - 5s - 5ms/step - accuracy: 0.2730 - loss: 2.0339\n",
      "Epoch 7/500\n",
      "1000/1000 - 5s - 5ms/step - accuracy: 0.3390 - loss: 1.9295\n",
      "Epoch 8/500\n",
      "1000/1000 - 5s - 5ms/step - accuracy: 0.3510 - loss: 1.8349\n",
      "Epoch 9/500\n",
      "1000/1000 - 5s - 5ms/step - accuracy: 0.3840 - loss: 1.7575\n",
      "Epoch 10/500\n",
      "1000/1000 - 5s - 5ms/step - accuracy: 0.4110 - loss: 1.6755\n",
      "Epoch 11/500\n",
      "1000/1000 - 5s - 5ms/step - accuracy: 0.4280 - loss: 1.6063\n",
      "Epoch 12/500\n",
      "1000/1000 - 5s - 5ms/step - accuracy: 0.4620 - loss: 1.5498\n",
      "Epoch 13/500\n"
     ]
    }
   ],
   "source": [
    "import numpy as np\n",
    "from keras.models import Sequential\n",
    "from keras.layers import Dense, LSTM\n",
    "from keras.preprocessing.sequence import pad_sequences\n",
    "from keras.optimizers import Adam\n",
    "from keras.losses import CategoricalCrossentropy\n",
    "from tensorflow.keras.utils import to_categorical\n",
    "\n",
    "# Set random seed for reproducibility\n",
    "np.random.seed(7)\n",
    "\n",
    "# Define the alphabet\n",
    "alphabet = \"ABCDEFGHIJKLMNOPQRSTUVWXYZ\"\n",
    "\n",
    "# Create character-to-integer and integer-to-character mappings\n",
    "char_to_int = {char: idx for idx, char in enumerate(alphabet)}\n",
    "int_to_char = {idx: char for idx, char in enumerate(alphabet)}\n",
    "\n",
    "# Generate dataset of input-output pairs\n",
    "num_inputs = 1000\n",
    "max_len = 5\n",
    "dataX = []\n",
    "dataY = []\n",
    "\n",
    "for _ in range(num_inputs):\n",
    "    start = np.random.randint(len(alphabet) - 2)\n",
    "    end = np.random.randint(start, min(start + max_len, len(alphabet) - 1))\n",
    "    sequence_in = alphabet[start:end + 1]\n",
    "    sequence_out = alphabet[end + 1]\n",
    "    dataX.append([char_to_int[char] for char in sequence_in])\n",
    "    dataY.append(char_to_int[sequence_out])\n",
    "\n",
    "# Pad sequences to ensure uniform input length\n",
    "X = pad_sequences(dataX, maxlen=max_len, dtype='float32')\n",
    "\n",
    "# Reshape X to be [samples, time steps, features]\n",
    "X = np.reshape(X, (X.shape[0], max_len, 1))\n",
    "\n",
    "# Normalize input data\n",
    "X = X / float(len(alphabet))\n",
    "\n",
    "# One-hot encode the output variable\n",
    "y =to_categorical(dataY)\n",
    "\n",
    "# Define the LSTM model\n",
    "model = Sequential()\n",
    "model.add(LSTM(32, input_shape=(X.shape[1], X.shape[2])))\n",
    "model.add(Dense(y.shape[1], activation='softmax'))\n",
    "\n",
    "# Compile the model\n",
    "model.compile(loss=CategoricalCrossentropy(), optimizer=Adam(), metrics=['accuracy'])\n",
    "\n",
    "# Train the model\n",
    "model.fit(X, y, epochs=500, batch_size=1, verbose=2)\n",
    "\n",
    "# Evaluate the model\n",
    "scores = model.evaluate(X, y, verbose=0)\n",
    "print(f\"Model Accuracy: {scores[1] * 100:.2f}%\")\n",
    "\n",
    "# Demonstrate some model predictions\n",
    "for _ in range(20):\n",
    "    pattern_index = np.random.randint(len(dataX))\n",
    "    pattern = dataX[pattern_index]\n",
    "    x = pad_sequences([pattern], maxlen=max_len, dtype='float32')\n",
    "    x = np.reshape(x, (1, max_len, 1))\n",
    "    x = x / float(len(alphabet))\n",
    "    prediction = model.predict(x, verbose=0)\n",
    "    index = np.argmax(prediction)\n",
    "    result = int_to_char[index]\n",
    "    seq_in = [int_to_char[value] for value in pattern]\n",
    "    print(f\"{''.join(seq_in)} -> {result}\")\n"
   ]
  },
  {
   "cell_type": "code",
   "execution_count": null,
   "id": "2c2ebbd3-a298-4718-a699-cee2f0738e44",
   "metadata": {},
   "outputs": [],
   "source": []
  }
 ],
 "metadata": {
  "kernelspec": {
   "display_name": "Python 3 (ipykernel)",
   "language": "python",
   "name": "python3"
  },
  "language_info": {
   "codemirror_mode": {
    "name": "ipython",
    "version": 3
   },
   "file_extension": ".py",
   "mimetype": "text/x-python",
   "name": "python",
   "nbconvert_exporter": "python",
   "pygments_lexer": "ipython3",
   "version": "3.10.11"
  }
 },
 "nbformat": 4,
 "nbformat_minor": 5
}
