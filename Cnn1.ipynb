{
 "cells": [
  {
   "cell_type": "code",
   "execution_count": 1,
   "id": "3bc57246-a5d1-4a93-a68f-e1325cea38c3",
   "metadata": {},
   "outputs": [
    {
     "name": "stderr",
     "output_type": "stream",
     "text": [
      "C:\\Users\\ajays\\AppData\\Local\\Programs\\Python\\Python310\\lib\\site-packages\\keras\\src\\layers\\core\\dense.py:87: UserWarning: Do not pass an `input_shape`/`input_dim` argument to a layer. When using Sequential models, prefer using an `Input(shape)` object as the first layer in the model instead.\n",
      "  super().__init__(activity_regularizer=activity_regularizer, **kwargs)\n"
     ]
    },
    {
     "name": "stdout",
     "output_type": "stream",
     "text": [
      "Fold 1: Train Accuracy = 0.9955, Test Accuracy = 0.9734\n"
     ]
    },
    {
     "name": "stderr",
     "output_type": "stream",
     "text": [
      "C:\\Users\\ajays\\AppData\\Local\\Programs\\Python\\Python310\\lib\\site-packages\\keras\\src\\layers\\core\\dense.py:87: UserWarning: Do not pass an `input_shape`/`input_dim` argument to a layer. When using Sequential models, prefer using an `Input(shape)` object as the first layer in the model instead.\n",
      "  super().__init__(activity_regularizer=activity_regularizer, **kwargs)\n"
     ]
    },
    {
     "name": "stdout",
     "output_type": "stream",
     "text": [
      "Fold 2: Train Accuracy = 0.9933, Test Accuracy = 0.9741\n"
     ]
    },
    {
     "name": "stderr",
     "output_type": "stream",
     "text": [
      "C:\\Users\\ajays\\AppData\\Local\\Programs\\Python\\Python310\\lib\\site-packages\\keras\\src\\layers\\core\\dense.py:87: UserWarning: Do not pass an `input_shape`/`input_dim` argument to a layer. When using Sequential models, prefer using an `Input(shape)` object as the first layer in the model instead.\n",
      "  super().__init__(activity_regularizer=activity_regularizer, **kwargs)\n"
     ]
    },
    {
     "name": "stdout",
     "output_type": "stream",
     "text": [
      "Fold 3: Train Accuracy = 0.9947, Test Accuracy = 0.9771\n"
     ]
    },
    {
     "name": "stderr",
     "output_type": "stream",
     "text": [
      "C:\\Users\\ajays\\AppData\\Local\\Programs\\Python\\Python310\\lib\\site-packages\\keras\\src\\layers\\core\\dense.py:87: UserWarning: Do not pass an `input_shape`/`input_dim` argument to a layer. When using Sequential models, prefer using an `Input(shape)` object as the first layer in the model instead.\n",
      "  super().__init__(activity_regularizer=activity_regularizer, **kwargs)\n"
     ]
    },
    {
     "name": "stdout",
     "output_type": "stream",
     "text": [
      "Fold 4: Train Accuracy = 0.9939, Test Accuracy = 0.9747\n"
     ]
    },
    {
     "name": "stderr",
     "output_type": "stream",
     "text": [
      "C:\\Users\\ajays\\AppData\\Local\\Programs\\Python\\Python310\\lib\\site-packages\\keras\\src\\layers\\core\\dense.py:87: UserWarning: Do not pass an `input_shape`/`input_dim` argument to a layer. When using Sequential models, prefer using an `Input(shape)` object as the first layer in the model instead.\n",
      "  super().__init__(activity_regularizer=activity_regularizer, **kwargs)\n"
     ]
    },
    {
     "name": "stdout",
     "output_type": "stream",
     "text": [
      "Fold 5: Train Accuracy = 0.9947, Test Accuracy = 0.9740\n"
     ]
    },
    {
     "name": "stderr",
     "output_type": "stream",
     "text": [
      "C:\\Users\\ajays\\AppData\\Local\\Programs\\Python\\Python310\\lib\\site-packages\\keras\\src\\layers\\core\\dense.py:87: UserWarning: Do not pass an `input_shape`/`input_dim` argument to a layer. When using Sequential models, prefer using an `Input(shape)` object as the first layer in the model instead.\n",
      "  super().__init__(activity_regularizer=activity_regularizer, **kwargs)\n"
     ]
    },
    {
     "name": "stdout",
     "output_type": "stream",
     "text": [
      "Fold 6: Train Accuracy = 0.9948, Test Accuracy = 0.9734\n"
     ]
    },
    {
     "name": "stderr",
     "output_type": "stream",
     "text": [
      "C:\\Users\\ajays\\AppData\\Local\\Programs\\Python\\Python310\\lib\\site-packages\\keras\\src\\layers\\core\\dense.py:87: UserWarning: Do not pass an `input_shape`/`input_dim` argument to a layer. When using Sequential models, prefer using an `Input(shape)` object as the first layer in the model instead.\n",
      "  super().__init__(activity_regularizer=activity_regularizer, **kwargs)\n"
     ]
    },
    {
     "name": "stdout",
     "output_type": "stream",
     "text": [
      "Fold 7: Train Accuracy = 0.9933, Test Accuracy = 0.9751\n"
     ]
    },
    {
     "name": "stderr",
     "output_type": "stream",
     "text": [
      "C:\\Users\\ajays\\AppData\\Local\\Programs\\Python\\Python310\\lib\\site-packages\\keras\\src\\layers\\core\\dense.py:87: UserWarning: Do not pass an `input_shape`/`input_dim` argument to a layer. When using Sequential models, prefer using an `Input(shape)` object as the first layer in the model instead.\n",
      "  super().__init__(activity_regularizer=activity_regularizer, **kwargs)\n"
     ]
    },
    {
     "name": "stdout",
     "output_type": "stream",
     "text": [
      "Fold 8: Train Accuracy = 0.9953, Test Accuracy = 0.9766\n"
     ]
    },
    {
     "name": "stderr",
     "output_type": "stream",
     "text": [
      "C:\\Users\\ajays\\AppData\\Local\\Programs\\Python\\Python310\\lib\\site-packages\\keras\\src\\layers\\core\\dense.py:87: UserWarning: Do not pass an `input_shape`/`input_dim` argument to a layer. When using Sequential models, prefer using an `Input(shape)` object as the first layer in the model instead.\n",
      "  super().__init__(activity_regularizer=activity_regularizer, **kwargs)\n"
     ]
    },
    {
     "name": "stdout",
     "output_type": "stream",
     "text": [
      "Fold 9: Train Accuracy = 0.9964, Test Accuracy = 0.9764\n"
     ]
    },
    {
     "name": "stderr",
     "output_type": "stream",
     "text": [
      "C:\\Users\\ajays\\AppData\\Local\\Programs\\Python\\Python310\\lib\\site-packages\\keras\\src\\layers\\core\\dense.py:87: UserWarning: Do not pass an `input_shape`/`input_dim` argument to a layer. When using Sequential models, prefer using an `Input(shape)` object as the first layer in the model instead.\n",
      "  super().__init__(activity_regularizer=activity_regularizer, **kwargs)\n"
     ]
    },
    {
     "name": "stdout",
     "output_type": "stream",
     "text": [
      "Fold 10: Train Accuracy = 0.9934, Test Accuracy = 0.9723\n",
      "\n",
      "Final Results:\n",
      "Average Training Accuracy: 0.9945\n",
      "Average Test Accuracy: 0.9747\n"
     ]
    }
   ],
   "source": [
    "import numpy as np\n",
    "from tensorflow.keras.datasets import mnist\n",
    "from tensorflow.keras.models import Sequential\n",
    "from tensorflow.keras.layers import Dense, Flatten\n",
    "from tensorflow.keras.utils import to_categorical\n",
    "from sklearn.model_selection import KFold\n",
    "from sklearn.preprocessing import StandardScaler\n",
    "from sklearn.metrics import accuracy_score\n",
    "\n",
    "# Load MNIST dataset\n",
    "(X_train, y_train), (X_test, y_test) = mnist.load_data()\n",
    "\n",
    "# Combine train and test sets for cross-validation\n",
    "X = np.concatenate((X_train, X_test), axis=0)\n",
    "y = np.concatenate((y_train, y_test), axis=0)\n",
    "\n",
    "# Reshape X to have a single feature dimension (28*28 = 784)\n",
    "X = X.reshape(X.shape[0], 28*28)\n",
    "\n",
    "# Standardize the input values\n",
    "scaler = StandardScaler()\n",
    "X = scaler.fit_transform(X)\n",
    "\n",
    "# One-hot encode the target values\n",
    "y = to_categorical(y, 10)\n",
    "\n",
    "# Define K-fold cross-validation\n",
    "n_folds = 10\n",
    "kfold = KFold(n_splits=n_folds, shuffle=True, random_state=42)\n",
    "\n",
    "# Initialize lists to store metrics\n",
    "train_acc_scores = []\n",
    "test_acc_scores = []\n",
    "\n",
    "# K-fold Cross Validation\n",
    "fold_no = 1\n",
    "for train, test in kfold.split(X, y):\n",
    "    # Build the model\n",
    "    model = Sequential([\n",
    "        Dense(28*28, activation='relu', input_shape=(28*28,)),  # Input layer\n",
    "        Dense(28*28, activation='relu'),                       # Hidden layer\n",
    "        Dense(10, activation='softmax')                        # Output layer\n",
    "    ])\n",
    "    \n",
    "    # Compile the model\n",
    "    model.compile(optimizer='adam', \n",
    "                  loss='categorical_crossentropy', \n",
    "                  metrics=['accuracy'])\n",
    "    \n",
    "    # Train the model\n",
    "    history = model.fit(\n",
    "        X[train], y[train],\n",
    "        epochs=10,\n",
    "        batch_size=128,\n",
    "        verbose=0\n",
    "    )\n",
    "    \n",
    "    # Evaluate on train and test data\n",
    "    train_preds = model.predict(X[train], verbose=0)\n",
    "    test_preds = model.predict(X[test], verbose=0)\n",
    "    \n",
    "    train_acc = accuracy_score(np.argmax(y[train], axis=1), np.argmax(train_preds, axis=1))\n",
    "    test_acc = accuracy_score(np.argmax(y[test], axis=1), np.argmax(test_preds, axis=1))\n",
    "    \n",
    "    train_acc_scores.append(train_acc)\n",
    "    test_acc_scores.append(test_acc)\n",
    "    \n",
    "    print(f'Fold {fold_no}: Train Accuracy = {train_acc:.4f}, Test Accuracy = {test_acc:.4f}')\n",
    "    fold_no += 1\n",
    "\n",
    "# Calculate average metrics\n",
    "avg_train_acc = np.mean(train_acc_scores)\n",
    "avg_test_acc = np.mean(test_acc_scores)\n",
    "\n",
    "print('\\nFinal Results:')\n",
    "print(f'Average Training Accuracy: {avg_train_acc:.4f}')\n",
    "print(f'Average Test Accuracy: {avg_test_acc:.4f}')\n",
    "\n"
   ]
  },
  {
   "cell_type": "code",
   "execution_count": 2,
   "id": "a72bf6b4-15f6-46c6-8eb2-948745c913ec",
   "metadata": {},
   "outputs": [
    {
     "name": "stdout",
     "output_type": "stream",
     "text": [
      "Training fold 1...\n"
     ]
    },
    {
     "name": "stderr",
     "output_type": "stream",
     "text": [
      "C:\\Users\\ajays\\AppData\\Local\\Programs\\Python\\Python310\\lib\\site-packages\\keras\\src\\layers\\convolutional\\base_conv.py:107: UserWarning: Do not pass an `input_shape`/`input_dim` argument to a layer. When using Sequential models, prefer using an `Input(shape)` object as the first layer in the model instead.\n",
      "  super().__init__(activity_regularizer=activity_regularizer, **kwargs)\n"
     ]
    },
    {
     "name": "stdout",
     "output_type": "stream",
     "text": [
      "Fold 1 - Train Accuracy: 0.9992, Validation Accuracy: 0.9889\n",
      "Training fold 2...\n",
      "Fold 2 - Train Accuracy: 0.9992, Validation Accuracy: 0.9891\n",
      "Training fold 3...\n",
      "Fold 3 - Train Accuracy: 0.9982, Validation Accuracy: 0.9891\n",
      "Training fold 4...\n",
      "Fold 4 - Train Accuracy: 0.9988, Validation Accuracy: 0.9890\n",
      "Training fold 5...\n",
      "Fold 5 - Train Accuracy: 0.9991, Validation Accuracy: 0.9907\n",
      "Training fold 6...\n",
      "Fold 6 - Train Accuracy: 0.9990, Validation Accuracy: 0.9913\n",
      "Training fold 7...\n",
      "Fold 7 - Train Accuracy: 0.9992, Validation Accuracy: 0.9924\n",
      "Training fold 8...\n",
      "Fold 8 - Train Accuracy: 0.9984, Validation Accuracy: 0.9871\n",
      "Training fold 9...\n",
      "Fold 9 - Train Accuracy: 0.9990, Validation Accuracy: 0.9891\n",
      "Training fold 10...\n",
      "Fold 10 - Train Accuracy: 0.9978, Validation Accuracy: 0.9881\n",
      "\n",
      "=== Cross Validation Results ===\n",
      "Average Training Accuracy: 0.9988\n",
      "Average Validation Accuracy: 0.9895\n",
      "Average Training Loss: 0.0035\n",
      "Average Validation Loss: 0.0489\n"
     ]
    }
   ],
   "source": [
    "import numpy as np\n",
    "from tensorflow.keras.datasets import mnist\n",
    "from tensorflow.keras.models import Sequential\n",
    "from tensorflow.keras.layers import Conv2D, MaxPooling2D, Dropout, Flatten, Dense\n",
    "from tensorflow.keras.optimizers import Adam\n",
    "from tensorflow.keras.utils import to_categorical\n",
    "from sklearn.model_selection import KFold\n",
    "\n",
    "# 1. Load the MNIST dataset\n",
    "(x_train, y_train), (x_test, y_test) = mnist.load_data()\n",
    "\n",
    "# Combine training and test sets for cross validation\n",
    "X = np.concatenate((x_train, x_test), axis=0)\n",
    "y = np.concatenate((y_train, y_test), axis=0)\n",
    "\n",
    "# 2. Preprocess the data\n",
    "# Reshape images to (28, 28, 1) for the CNN (28x28 pixels, 1 channel)\n",
    "X = X.reshape(X.shape[0], 28, 28, 1).astype('float32')\n",
    "# Normalize pixel values to [0, 1]\n",
    "X /= 255.0\n",
    "\n",
    "# One-hot encode the labels (10 classes)\n",
    "y = to_categorical(y, num_classes=10)\n",
    "\n",
    "# 3. Define a function to create the CNN model\n",
    "def create_model():\n",
    "    model = Sequential()\n",
    "    # Convolutional layer: 32 filters, kernel size 5x5, ReLU activation, input shape set for 28x28 images with 1 channel\n",
    "    model.add(Conv2D(32, kernel_size=(5, 5), activation='relu', input_shape=(28, 28, 1)))\n",
    "    # MaxPooling layer with pool size 2x2\n",
    "    model.add(MaxPooling2D(pool_size=(2, 2)))\n",
    "    # Dropout layer with 20% rate\n",
    "    model.add(Dropout(0.2))\n",
    "    # Flatten layer to convert 2D feature maps to 1D vector\n",
    "    model.add(Flatten())\n",
    "    # Fully connected (Dense) layer with 128 neurons and ReLU activation\n",
    "    model.add(Dense(128, activation='relu'))\n",
    "    # Output layer: 10 neurons with softmax activation\n",
    "    model.add(Dense(10, activation='softmax'))\n",
    "    \n",
    "    # Compile the model with Adam optimizer and categorical crossentropy loss\n",
    "    model.compile(optimizer=Adam(), loss='categorical_crossentropy', metrics=['accuracy'])\n",
    "    return model\n",
    "\n",
    "# 4. Set up 10-fold cross validation\n",
    "kf = KFold(n_splits=10, shuffle=True, random_state=42)\n",
    "\n",
    "train_accuracies = []\n",
    "val_accuracies = []\n",
    "train_losses = []\n",
    "val_losses = []\n",
    "\n",
    "fold = 1\n",
    "for train_index, val_index in kf.split(X):\n",
    "    print(f\"Training fold {fold}...\")\n",
    "    X_train_fold, X_val_fold = X[train_index], X[val_index]\n",
    "    y_train_fold, y_val_fold = y[train_index], y[val_index]\n",
    "    \n",
    "    model = create_model()\n",
    "    \n",
    "    # Train the model (you may adjust epochs and batch_size as needed)\n",
    "    model.fit(X_train_fold, y_train_fold, epochs=10, batch_size=32, verbose=0)\n",
    "    \n",
    "    # Evaluate the model on training and validation sets\n",
    "    train_loss, train_acc = model.evaluate(X_train_fold, y_train_fold, verbose=0)\n",
    "    val_loss, val_acc = model.evaluate(X_val_fold, y_val_fold, verbose=0)\n",
    "    \n",
    "    train_accuracies.append(train_acc)\n",
    "    val_accuracies.append(val_acc)\n",
    "    train_losses.append(train_loss)\n",
    "    val_losses.append(val_loss)\n",
    "    \n",
    "    print(f\"Fold {fold} - Train Accuracy: {train_acc:.4f}, Validation Accuracy: {val_acc:.4f}\")\n",
    "    fold += 1\n",
    "\n",
    "# 5. Print average results across folds\n",
    "print(\"\\n=== Cross Validation Results ===\")\n",
    "print(\"Average Training Accuracy: {:.4f}\".format(np.mean(train_accuracies)))\n",
    "print(\"Average Validation Accuracy: {:.4f}\".format(np.mean(val_accuracies)))\n",
    "print(\"Average Training Loss: {:.4f}\".format(np.mean(train_losses)))\n",
    "print(\"Average Validation Loss: {:.4f}\".format(np.mean(val_losses)))\n"
   ]
  },
  {
   "cell_type": "code",
   "execution_count": null,
   "id": "e4a492ec-457f-4457-80cd-8f24dc9a0c6a",
   "metadata": {},
   "outputs": [],
   "source": []
  }
 ],
 "metadata": {
  "kernelspec": {
   "display_name": "Python 3 (ipykernel)",
   "language": "python",
   "name": "python3"
  },
  "language_info": {
   "codemirror_mode": {
    "name": "ipython",
    "version": 3
   },
   "file_extension": ".py",
   "mimetype": "text/x-python",
   "name": "python",
   "nbconvert_exporter": "python",
   "pygments_lexer": "ipython3",
   "version": "3.10.11"
  }
 },
 "nbformat": 4,
 "nbformat_minor": 5
}
